{
 "cells": [
  {
   "cell_type": "code",
   "execution_count": 1,
   "id": "c473e59e-b3b2-4e12-8f1d-87143ec2f474",
   "metadata": {},
   "outputs": [
    {
     "name": "stdout",
     "output_type": "stream",
     "text": [
      "GPU is available\n"
     ]
    }
   ],
   "source": [
    "# PyTorch Setup\n",
    "import torch\n",
    "device = torch.device('cuda' if torch.cuda.is_available() else 'cpu')\n",
    "if torch.cuda.is_available():\n",
    "    print(\"GPU is available\")\n",
    "else:\n",
    "    print(\"CPU is being used\")\n",
    "\n",
    "\n",
    "from IPython.core.magic import register_line_cell_magic\n",
    "@register_line_cell_magic\n",
    "def hyperparameters(hp_var_name, cell):\n",
    "    with open('experiment.yaml', 'w') as f:\n",
    "        f.write(cell)\n",
    "    HP = omegaconf.OmegaConf.load('experiment.yaml')\n",
    "    get_ipython().user_ns[hp_var_name] = HP"
   ]
  },
  {
   "cell_type": "code",
   "execution_count": 2,
   "id": "d8d8c6c1-3d5b-49fb-a8ea-afe72ed60915",
   "metadata": {
    "tags": []
   },
   "outputs": [],
   "source": [
    "# Import the necessary libraries\n",
    "import pandas as pd\n",
    "import numpy as np\n",
    "import collections\n",
    "import termcolor\n",
    "import functools \n",
    "import random\n",
    "import pickle\n",
    "import os\n",
    "import gc\n",
    "import timm\n",
    "import omegaconf\n",
    "import wandb\n",
    "import transformers\n",
    "import datasets\n",
    "import sklearn\n",
    "import sklearn.metrics\n",
    "import sklearn.model_selection\n",
    "\n",
    "from pathlib import Path\n",
    "from PIL import Image\n",
    "from tqdm.auto import tqdm\n",
    "\n",
    "tqdm.pandas()"
   ]
  },
  {
   "cell_type": "code",
   "execution_count": 3,
   "id": "5ebd6caa-50bf-4376-9e06-329dcb5b473a",
   "metadata": {
    "tags": []
   },
   "outputs": [],
   "source": [
    "# Define the hyperparameters\n",
    "args = {\n",
    "    'backbone_name': 'repvit_m3',\n",
    "    'img_size': 224,\n",
    "    'num_train_epochs': 10,\n",
    "    'train_batch_size': 8,\n",
    "    'test_batch_size': 8,\n",
    "    'warmup_ratio': 0.10,\n",
    "    'peak_lr': 1e-6,\n",
    "    'weight_decay': 1e-8,\n",
    "    'max_grad_norm': 1000.00,\n",
    "    'validation_split': 0.10,\n",
    "}\n"
   ]
  },
  {
   "cell_type": "code",
   "execution_count": 4,
   "id": "1ce0ef2e-a773-4234-9c77-e32f66761933",
   "metadata": {
    "tags": []
   },
   "outputs": [],
   "source": [
    "# Create the model\n",
    "backbone = timm.create_model(args['backbone_name'], pretrained=True)"
   ]
  },
  {
   "cell_type": "code",
   "execution_count": 5,
   "id": "c0d086e3-89fd-4fac-9b27-6bdb202d5fa0",
   "metadata": {
    "tags": []
   },
   "outputs": [
    {
     "data": {
      "text/html": [
       "<div>\n",
       "<style scoped>\n",
       "    .dataframe tbody tr th:only-of-type {\n",
       "        vertical-align: middle;\n",
       "    }\n",
       "\n",
       "    .dataframe tbody tr th {\n",
       "        vertical-align: top;\n",
       "    }\n",
       "\n",
       "    .dataframe thead th {\n",
       "        text-align: right;\n",
       "    }\n",
       "</style>\n",
       "<table border=\"1\" class=\"dataframe\">\n",
       "  <thead>\n",
       "    <tr style=\"text-align: right;\">\n",
       "      <th></th>\n",
       "      <th>image</th>\n",
       "      <th>level</th>\n",
       "      <th>img_path</th>\n",
       "    </tr>\n",
       "  </thead>\n",
       "  <tbody>\n",
       "    <tr>\n",
       "      <th>18629</th>\n",
       "      <td>23483_right</td>\n",
       "      <td>0</td>\n",
       "      <td>C:\\Users\\Tirta Irawan\\Jupyter\\Kalbe Digital AI...</td>\n",
       "    </tr>\n",
       "    <tr>\n",
       "      <th>30819</th>\n",
       "      <td>38964_right</td>\n",
       "      <td>0</td>\n",
       "      <td>C:\\Users\\Tirta Irawan\\Jupyter\\Kalbe Digital AI...</td>\n",
       "    </tr>\n",
       "    <tr>\n",
       "      <th>29655</th>\n",
       "      <td>37539_right</td>\n",
       "      <td>2</td>\n",
       "      <td>C:\\Users\\Tirta Irawan\\Jupyter\\Kalbe Digital AI...</td>\n",
       "    </tr>\n",
       "    <tr>\n",
       "      <th>23483</th>\n",
       "      <td>29679_right</td>\n",
       "      <td>0</td>\n",
       "      <td>C:\\Users\\Tirta Irawan\\Jupyter\\Kalbe Digital AI...</td>\n",
       "    </tr>\n",
       "    <tr>\n",
       "      <th>8881</th>\n",
       "      <td>11155_right</td>\n",
       "      <td>0</td>\n",
       "      <td>C:\\Users\\Tirta Irawan\\Jupyter\\Kalbe Digital AI...</td>\n",
       "    </tr>\n",
       "    <tr>\n",
       "      <th>...</th>\n",
       "      <td>...</td>\n",
       "      <td>...</td>\n",
       "      <td>...</td>\n",
       "    </tr>\n",
       "    <tr>\n",
       "      <th>1506</th>\n",
       "      <td>1886_left</td>\n",
       "      <td>0</td>\n",
       "      <td>C:\\Users\\Tirta Irawan\\Jupyter\\Kalbe Digital AI...</td>\n",
       "    </tr>\n",
       "    <tr>\n",
       "      <th>12671</th>\n",
       "      <td>15894_right</td>\n",
       "      <td>0</td>\n",
       "      <td>C:\\Users\\Tirta Irawan\\Jupyter\\Kalbe Digital AI...</td>\n",
       "    </tr>\n",
       "    <tr>\n",
       "      <th>23424</th>\n",
       "      <td>29627_left</td>\n",
       "      <td>0</td>\n",
       "      <td>C:\\Users\\Tirta Irawan\\Jupyter\\Kalbe Digital AI...</td>\n",
       "    </tr>\n",
       "    <tr>\n",
       "      <th>5925</th>\n",
       "      <td>7468_right</td>\n",
       "      <td>1</td>\n",
       "      <td>C:\\Users\\Tirta Irawan\\Jupyter\\Kalbe Digital AI...</td>\n",
       "    </tr>\n",
       "    <tr>\n",
       "      <th>19695</th>\n",
       "      <td>24862_right</td>\n",
       "      <td>0</td>\n",
       "      <td>C:\\Users\\Tirta Irawan\\Jupyter\\Kalbe Digital AI...</td>\n",
       "    </tr>\n",
       "  </tbody>\n",
       "</table>\n",
       "<p>31613 rows × 3 columns</p>\n",
       "</div>"
      ],
      "text/plain": [
       "             image  level                                           img_path\n",
       "18629  23483_right      0  C:\\Users\\Tirta Irawan\\Jupyter\\Kalbe Digital AI...\n",
       "30819  38964_right      0  C:\\Users\\Tirta Irawan\\Jupyter\\Kalbe Digital AI...\n",
       "29655  37539_right      2  C:\\Users\\Tirta Irawan\\Jupyter\\Kalbe Digital AI...\n",
       "23483  29679_right      0  C:\\Users\\Tirta Irawan\\Jupyter\\Kalbe Digital AI...\n",
       "8881   11155_right      0  C:\\Users\\Tirta Irawan\\Jupyter\\Kalbe Digital AI...\n",
       "...            ...    ...                                                ...\n",
       "1506     1886_left      0  C:\\Users\\Tirta Irawan\\Jupyter\\Kalbe Digital AI...\n",
       "12671  15894_right      0  C:\\Users\\Tirta Irawan\\Jupyter\\Kalbe Digital AI...\n",
       "23424   29627_left      0  C:\\Users\\Tirta Irawan\\Jupyter\\Kalbe Digital AI...\n",
       "5925    7468_right      1  C:\\Users\\Tirta Irawan\\Jupyter\\Kalbe Digital AI...\n",
       "19695  24862_right      0  C:\\Users\\Tirta Irawan\\Jupyter\\Kalbe Digital AI...\n",
       "\n",
       "[31613 rows x 3 columns]"
      ]
     },
     "execution_count": 5,
     "metadata": {},
     "output_type": "execute_result"
    }
   ],
   "source": [
    "df = pd.read_csv('trainLabels.csv')\n",
    "img_path = 'C:\\\\Users\\\\Tirta Irawan\\\\Jupyter\\\\Kalbe Digital AI\\\\CV KDU - Week 2 - RepVIT\\\\resized_train\\\\resized_train\\\\'\n",
    "df['img_path'] = img_path + df.image + '.jpeg'\n",
    "\n",
    "train_df, valid_df = sklearn.model_selection.train_test_split(df, test_size=args['validation_split'])\n",
    "train_df"
   ]
  },
  {
   "cell_type": "code",
   "execution_count": 6,
   "id": "3e811317-5c2d-45d5-a330-059308b44b22",
   "metadata": {
    "tags": []
   },
   "outputs": [],
   "source": [
    "from dataset import DiabeticRetinopathyDataset\n",
    "\n",
    "train_dataset = DiabeticRetinopathyDataset(train_df.img_path.values, train_df.level.values, img_size=args['img_size'])\n",
    "valid_dataset = DiabeticRetinopathyDataset(valid_df.img_path.values, valid_df.level.values, img_size=args['img_size'])\n",
    "\n",
    "train_dataloader = torch.utils.data.DataLoader(\n",
    "    dataset=train_dataset,\n",
    "    batch_size=args['train_batch_size'],\n",
    "    shuffle=True,\n",
    "    num_workers=2,\n",
    "    pin_memory=True,\n",
    "    persistent_workers=True,\n",
    "    drop_last=True,\n",
    ")\n",
    "valid_dataloader = torch.utils.data.DataLoader(\n",
    "    dataset=valid_dataset,\n",
    "    batch_size=args['test_batch_size'],\n",
    "    shuffle=False, \n",
    "    num_workers=2,\n",
    "    pin_memory=True,\n",
    "    persistent_workers=True,\n",
    "    drop_last=True,\n",
    ")\n",
    "\n",
    "batch = next(iter(valid_dataloader))"
   ]
  },
  {
   "cell_type": "code",
   "execution_count": 7,
   "id": "68bb0949-de58-41b2-8903-cb7314b51477",
   "metadata": {},
   "outputs": [
    {
     "data": {
      "text/plain": [
       "torch.Size([8, 5])"
      ]
     },
     "execution_count": 7,
     "metadata": {},
     "output_type": "execute_result"
    }
   ],
   "source": [
    "from dataset_repvit import DiabeticRetinopathyRepViTModel\n",
    "\n",
    "model = DiabeticRetinopathyRepViTModel(backbone).to(device)\n",
    "optimizer = torch.optim.AdamW(params=model.parameters(), lr=1e-4, weight_decay=1e-2)\n",
    "logits = model(batch['img'].to(device))\n",
    "logits.shape"
   ]
  },
  {
   "cell_type": "code",
   "execution_count": null,
   "id": "b32a0d8a-eb19-48e1-bad1-18f135d6c5a6",
   "metadata": {
    "tags": []
   },
   "outputs": [
    {
     "data": {
      "application/vnd.jupyter.widget-view+json": {
       "model_id": "32eecbc234ae43c1bbe43c74bf767a58",
       "version_major": 2,
       "version_minor": 0
      },
      "text/plain": [
       "  0%|          | 0/3951 [00:00<?, ?it/s]"
      ]
     },
     "metadata": {},
     "output_type": "display_data"
    },
    {
     "name": "stdout",
     "output_type": "stream",
     "text": [
      "\u001b[34mtrain_loss\u001b[0m: \u001b[31m0.2322719989953102\u001b[0m\n"
     ]
    },
    {
     "data": {
      "application/vnd.jupyter.widget-view+json": {
       "model_id": "d7967f943ba34746ae26e69f67484c9b",
       "version_major": 2,
       "version_minor": 0
      },
      "text/plain": [
       "  0%|          | 0/439 [00:00<?, ?it/s]"
      ]
     },
     "metadata": {},
     "output_type": "display_data"
    },
    {
     "name": "stdout",
     "output_type": "stream",
     "text": [
      "validation \u001b[34mloss\u001b[0m: \u001b[31m0.22673508574112672\u001b[0m\n",
      "validation \u001b[34maccuracy\u001b[0m: \u001b[31m0.7895785876993167\u001b[0m\n",
      "validation \u001b[34mprecision\u001b[0m: \u001b[31m0.7591730609952504\u001b[0m\n",
      "validation \u001b[34mrecall\u001b[0m: \u001b[31m0.379872070874134\u001b[0m\n",
      "validation \u001b[34mf1 score\u001b[0m: \u001b[31m0.40683545700256224\u001b[0m\n"
     ]
    },
    {
     "data": {
      "application/vnd.jupyter.widget-view+json": {
       "model_id": "0a76b7b494324df58c43bc2151a77b73",
       "version_major": 2,
       "version_minor": 0
      },
      "text/plain": [
       "  0%|          | 0/3951 [00:00<?, ?it/s]"
      ]
     },
     "metadata": {},
     "output_type": "display_data"
    },
    {
     "name": "stdout",
     "output_type": "stream",
     "text": [
      "\u001b[34mtrain_loss\u001b[0m: \u001b[31m0.20831049625438638\u001b[0m\n"
     ]
    },
    {
     "data": {
      "application/vnd.jupyter.widget-view+json": {
       "model_id": "3b7a3dcfa0244abaa2965cc3873642a0",
       "version_major": 2,
       "version_minor": 0
      },
      "text/plain": [
       "  0%|          | 0/439 [00:00<?, ?it/s]"
      ]
     },
     "metadata": {},
     "output_type": "display_data"
    },
    {
     "name": "stdout",
     "output_type": "stream",
     "text": [
      "validation \u001b[34mloss\u001b[0m: \u001b[31m0.21945649672274167\u001b[0m\n",
      "validation \u001b[34maccuracy\u001b[0m: \u001b[31m0.7947038724373576\u001b[0m\n",
      "validation \u001b[34mprecision\u001b[0m: \u001b[31m0.6120162574666916\u001b[0m\n",
      "validation \u001b[34mrecall\u001b[0m: \u001b[31m0.4378042448143823\u001b[0m\n",
      "validation \u001b[34mf1 score\u001b[0m: \u001b[31m0.4759904862127101\u001b[0m\n"
     ]
    },
    {
     "data": {
      "application/vnd.jupyter.widget-view+json": {
       "model_id": "75169d22f51b4fac824cac9bedf44c61",
       "version_major": 2,
       "version_minor": 0
      },
      "text/plain": [
       "  0%|          | 0/3951 [00:00<?, ?it/s]"
      ]
     },
     "metadata": {},
     "output_type": "display_data"
    },
    {
     "name": "stdout",
     "output_type": "stream",
     "text": [
      "\u001b[34mtrain_loss\u001b[0m: \u001b[31m0.18117022443722092\u001b[0m\n"
     ]
    },
    {
     "data": {
      "application/vnd.jupyter.widget-view+json": {
       "model_id": "7d9cb06493804fc2bd1aa0d03ab123d2",
       "version_major": 2,
       "version_minor": 0
      },
      "text/plain": [
       "  0%|          | 0/439 [00:00<?, ?it/s]"
      ]
     },
     "metadata": {},
     "output_type": "display_data"
    },
    {
     "name": "stdout",
     "output_type": "stream",
     "text": [
      "validation \u001b[34mloss\u001b[0m: \u001b[31m0.23075359930753164\u001b[0m\n",
      "validation \u001b[34maccuracy\u001b[0m: \u001b[31m0.7955580865603644\u001b[0m\n",
      "validation \u001b[34mprecision\u001b[0m: \u001b[31m0.5529195464309039\u001b[0m\n",
      "validation \u001b[34mrecall\u001b[0m: \u001b[31m0.46160474190111705\u001b[0m\n",
      "validation \u001b[34mf1 score\u001b[0m: \u001b[31m0.49218046414837885\u001b[0m\n"
     ]
    },
    {
     "data": {
      "application/vnd.jupyter.widget-view+json": {
       "model_id": "89c0473058e7447c9de062fb83d557be",
       "version_major": 2,
       "version_minor": 0
      },
      "text/plain": [
       "  0%|          | 0/3951 [00:00<?, ?it/s]"
      ]
     },
     "metadata": {},
     "output_type": "display_data"
    },
    {
     "name": "stdout",
     "output_type": "stream",
     "text": [
      "\u001b[34mtrain_loss\u001b[0m: \u001b[31m0.1424853633099215\u001b[0m\n"
     ]
    },
    {
     "data": {
      "application/vnd.jupyter.widget-view+json": {
       "model_id": "b71972ad9970449cacb48247f04a33e7",
       "version_major": 2,
       "version_minor": 0
      },
      "text/plain": [
       "  0%|          | 0/439 [00:00<?, ?it/s]"
      ]
     },
     "metadata": {},
     "output_type": "display_data"
    },
    {
     "name": "stdout",
     "output_type": "stream",
     "text": [
      "validation \u001b[34mloss\u001b[0m: \u001b[31m0.2563124041758257\u001b[0m\n",
      "validation \u001b[34maccuracy\u001b[0m: \u001b[31m0.791002277904328\u001b[0m\n",
      "validation \u001b[34mprecision\u001b[0m: \u001b[31m0.5737866167762673\u001b[0m\n",
      "validation \u001b[34mrecall\u001b[0m: \u001b[31m0.4576160135880281\u001b[0m\n",
      "validation \u001b[34mf1 score\u001b[0m: \u001b[31m0.49839616972488654\u001b[0m\n"
     ]
    },
    {
     "data": {
      "application/vnd.jupyter.widget-view+json": {
       "model_id": "ec2511101b014eb189721b50fd9c8567",
       "version_major": 2,
       "version_minor": 0
      },
      "text/plain": [
       "  0%|          | 0/3951 [00:00<?, ?it/s]"
      ]
     },
     "metadata": {},
     "output_type": "display_data"
    }
   ],
   "source": [
    "from termcolor import colored\n",
    "import matplotlib.pyplot as plt\n",
    "from sklearn.metrics import accuracy_score, precision_score, recall_score, f1_score\n",
    "loss_fn = torch.nn.BCEWithLogitsLoss()\n",
    "\n",
    "# Create lists to store the losses\n",
    "train_losses = []\n",
    "valid_losses = []\n",
    "\n",
    "for epoch in range(args['num_train_epochs']):\n",
    "    epoch_metrics = collections.defaultdict(list)\n",
    "    for step, batch in tqdm(enumerate(train_dataloader), total=len(train_dataloader)):\n",
    "        batch = {k: v.to(device) for k, v in batch.items()}\n",
    "        \n",
    "        optimizer.zero_grad()\n",
    "        logits = model(batch['img'])\n",
    "        loss = loss_fn(logits, batch['label'].to(torch.float))\n",
    "        loss.backward()\n",
    "        optimizer.step()\n",
    "        \n",
    "        epoch_metrics['loss'].append(loss.item())\n",
    "    \n",
    "    # Calculate average training loss for the epoch\n",
    "    avg_train_loss = sum(epoch_metrics['loss']) / len(epoch_metrics['loss'])\n",
    "    train_losses.append(avg_train_loss)\n",
    "    print(f\"{colored('train_loss', 'blue')}: {colored(avg_train_loss, 'red')}\")\n",
    "            \n",
    "    validation_metrics = collections.defaultdict(list)\n",
    "    all_labels = []\n",
    "    all_predictions = []\n",
    "    for step, batch in tqdm(enumerate(valid_dataloader), total=len(valid_dataloader)):\n",
    "        batch = {k: v.to(device) for k, v in batch.items()}\n",
    "        logits = model(batch['img'])\n",
    "        loss = loss_fn(logits, batch['label'].to(torch.float))\n",
    "        validation_metrics['loss'].append(loss.item())\n",
    "\n",
    "        # Store the true labels and the model's predictions\n",
    "        predictions = torch.argmax(logits, dim=1)\n",
    "        all_labels.extend(batch['label'].cpu().numpy())\n",
    "        all_predictions.extend(predictions.cpu().numpy())\n",
    "\n",
    "    # Calculate average validation loss for the epoch\n",
    "    avg_valid_loss = sum(validation_metrics['loss']) / len(validation_metrics['loss'])\n",
    "    valid_losses.append(avg_valid_loss)\n",
    "    print(f\"validation {colored('loss', 'blue')}: {colored(avg_valid_loss, 'red')}\")\n",
    "\n",
    "    # Calculate performance metrics\n",
    "    all_labels = np.argmax(all_labels, axis=1)  # Add this line\n",
    "    accuracy = accuracy_score(all_labels, all_predictions)\n",
    "    precision = precision_score(all_labels, all_predictions, average='macro')\n",
    "    recall = recall_score(all_labels, all_predictions, average='macro')\n",
    "    f1 = f1_score(all_labels, all_predictions, average='macro')\n",
    "\n",
    "    print(f\"validation {colored('accuracy', 'blue')}: {colored(accuracy, 'red')}\")\n",
    "    print(f\"validation {colored('precision', 'blue')}: {colored(precision, 'red')}\")\n",
    "    print(f\"validation {colored('recall', 'blue')}: {colored(recall, 'red')}\")\n",
    "    print(f\"validation {colored('f1 score', 'blue')}: {colored(f1, 'red')}\")"
   ]
  },
  {
   "cell_type": "code",
   "execution_count": null,
   "id": "12900cc7-5861-4e2b-806c-97819f4d7978",
   "metadata": {
    "tags": []
   },
   "outputs": [],
   "source": [
    "from sklearn.metrics import confusion_matrix, classification_report\n",
    "import seaborn as sns\n",
    "\n",
    "# Calculate the confusion matrix\n",
    "cm = confusion_matrix(all_labels, all_predictions)\n",
    "\n",
    "# Plot the confusion matrix\n",
    "plt.figure(figsize=(10, 10))\n",
    "sns.heatmap(cm, annot=True, fmt='d', cmap='Blues')\n",
    "plt.xlabel('Predicted')\n",
    "plt.ylabel('True')\n",
    "plt.title('Confusion Matrix')\n",
    "plt.show()\n",
    "\n",
    "# Calculate and print the classification report\n",
    "report = classification_report(all_labels, all_predictions, target_names=['Class 0', 'Class 1', 'Class 2', 'Class 3', 'Class 4'])\n",
    "print(report)"
   ]
  }
 ],
 "metadata": {
  "kernelspec": {
   "display_name": "Python 3 (ipykernel)",
   "language": "python",
   "name": "python3"
  },
  "language_info": {
   "codemirror_mode": {
    "name": "ipython",
    "version": 3
   },
   "file_extension": ".py",
   "mimetype": "text/x-python",
   "name": "python",
   "nbconvert_exporter": "python",
   "pygments_lexer": "ipython3",
   "version": "3.10.12"
  }
 },
 "nbformat": 4,
 "nbformat_minor": 5
}
