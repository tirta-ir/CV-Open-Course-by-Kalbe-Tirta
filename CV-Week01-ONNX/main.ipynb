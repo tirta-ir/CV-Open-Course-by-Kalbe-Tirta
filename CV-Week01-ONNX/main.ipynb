{
 "cells": [
  {
   "cell_type": "code",
   "execution_count": 1,
   "id": "97c02063",
   "metadata": {},
   "outputs": [],
   "source": [
    "# Import necessary library for demo\n",
    "import cv2\n",
    "from imread_from_url import imread_from_url\n",
    "from yolov8 import YOLOv8\n",
    "from cap_from_youtube import cap_from_youtube"
   ]
  },
  {
   "cell_type": "code",
   "execution_count": 5,
   "id": "1020ba53",
   "metadata": {},
   "outputs": [
    {
     "data": {
      "text/plain": [
       "-1"
      ]
     },
     "execution_count": 5,
     "metadata": {},
     "output_type": "execute_result"
    }
   ],
   "source": [
    "# First demo is using image object\n",
    "\n",
    "# Initialize yolov8 object detector\n",
    "path_model = \"yolov8m.onnx\"\n",
    "detector = YOLOv8(path_model, conf_thres = 0.2, iou_thres = 0.3)\n",
    "\n",
    "# Read image\n",
    "img_url = \"https://images.pexels.com/photos/2422290/pexels-photo-2422290.jpeg?cs=srgb&dl=pexels-jopwell-2422290.jpg&fm=jpg\"\n",
    "img = imread_from_url(img_url)\n",
    "\n",
    "# Detect Objects\n",
    "boxes, scores, class_ids = detector(img)\n",
    "\n",
    "# Draw detections\n",
    "combined_img = detector.draw_detections(img)\n",
    "cv2.namedWindow(\"Detected Objects\", cv2.WINDOW_NORMAL)\n",
    "cv2.imshow(\"Detected Objects\", combined_img)\n",
    "cv2.imwrite(\"doc/img/detected_objects.jpg\", combined_img)\n",
    "cv2.waitKey(0)"
   ]
  },
  {
   "cell_type": "code",
   "execution_count": 2,
   "id": "c7dcfeb5",
   "metadata": {},
   "outputs": [
    {
     "name": "stdout",
     "output_type": "stream",
     "text": [
      "[youtube] Extracting URL: https://youtu.be/MNn9qKG2UFI?si=DTixyjF-cZBqcbqt\n",
      "[youtube] MNn9qKG2UFI: Downloading webpage\n",
      "[youtube] MNn9qKG2UFI: Downloading ios player API JSON\n",
      "[youtube] MNn9qKG2UFI: Downloading android player API JSON\n",
      "[youtube] MNn9qKG2UFI: Downloading m3u8 information\n"
     ]
    }
   ],
   "source": [
    "# Second demo is using video object\n",
    "\n",
    "videoUrl = 'https://youtu.be/MNn9qKG2UFI?si=DTixyjF-cZBqcbqt'\n",
    "cap = cap_from_youtube(videoUrl, resolution='720p')\n",
    "start_time = 5 # skip first {start_time} seconds for intro\n",
    "cap.set(cv2.CAP_PROP_POS_FRAMES, start_time * cap.get(cv2.CAP_PROP_FPS))\n",
    "\n",
    "# Initialize yolov8 object detector\n",
    "path_model = \"yolov8m.onnx\"\n",
    "detector = YOLOv8(path_model, conf_thres = 0.2, iou_thres = 0.3)\n",
    "\n",
    "cv2.namedWindow(\"Detected Objects\", cv2.WINDOW_NORMAL)\n",
    "while cap.isOpened():\n",
    "\n",
    "    # Press key q to stop\n",
    "    if cv2.waitKey(1) == ord('q'):\n",
    "        break\n",
    "\n",
    "    try:\n",
    "        # Read frame from the video\n",
    "        ret, frame = cap.read()\n",
    "        if not ret:\n",
    "            break\n",
    "    except Exception as e:\n",
    "        print(e)\n",
    "        continue\n",
    "\n",
    "    # Update object localizer\n",
    "    boxes, scores, class_ids = detector(frame)\n",
    "\n",
    "    combined_img = detector.draw_detections(frame)\n",
    "    cv2.imshow(\"Detected Objects\", combined_img)"
   ]
  },
  {
   "cell_type": "code",
   "execution_count": 2,
   "id": "c3b89deb",
   "metadata": {},
   "outputs": [],
   "source": [
    "# Initialize the webcam\n",
    "cap = cv2.VideoCapture(0)\n",
    "\n",
    "# Initialize YOLOv8 object detector\n",
    "model_path = \"yolov8m.onnx\"\n",
    "detector = YOLOv8(model_path, conf_thres = 0.2, iou_thres = 0.3)\n",
    "\n",
    "cv2.namedWindow(\"Detected Objects\", cv2.WINDOW_NORMAL)\n",
    "while cap.isOpened():\n",
    "\n",
    "    # Read frame from the video\n",
    "    ret, frame = cap.read()\n",
    "\n",
    "    if not ret:\n",
    "        break\n",
    "\n",
    "    # Update object localizer\n",
    "    boxes, scores, class_ids = detector(frame)\n",
    "\n",
    "    combined_img = detector.draw_detections(frame)\n",
    "    cv2.imshow(\"Detected Objects\", combined_img)\n",
    "\n",
    "    # Press key q to stop\n",
    "    if cv2.waitKey(1) & 0xFF == ord('q'):\n",
    "        break"
   ]
  }
 ],
 "metadata": {
  "kernelspec": {
   "display_name": "Python 3 (ipykernel)",
   "language": "python",
   "name": "python3"
  },
  "language_info": {
   "codemirror_mode": {
    "name": "ipython",
    "version": 3
   },
   "file_extension": ".py",
   "mimetype": "text/x-python",
   "name": "python",
   "nbconvert_exporter": "python",
   "pygments_lexer": "ipython3",
   "version": "3.10.12"
  }
 },
 "nbformat": 4,
 "nbformat_minor": 5
}
